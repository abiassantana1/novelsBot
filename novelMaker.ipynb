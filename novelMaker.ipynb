{
 "cells": [
  {
   "cell_type": "code",
   "execution_count": 195,
   "id": "1d8e0d63",
   "metadata": {},
   "outputs": [],
   "source": [
    "from bs4 import BeautifulSoup\n",
    "import requests\n",
    "import pyperclip\n",
    "import os"
   ]
  },
  {
   "cell_type": "code",
   "execution_count": 204,
   "id": "6fbc3ca3",
   "metadata": {},
   "outputs": [],
   "source": [
    "initialChapter = 1000\n",
    "finalChapter = 2000"
   ]
  },
  {
   "cell_type": "code",
   "execution_count": 205,
   "id": "59d5aefc",
   "metadata": {},
   "outputs": [],
   "source": [
    "replaceChars = [\"\\n\", \"\\'\\'\", \"\\'\", \"Advertisement\", \"Please enable JavaScript!Bitte aktiviere JavaScript!Sil vous plaît activer JavaScript!Por favor,activa el JavaScript!antiblock.org\"]"
   ]
  },
  {
   "cell_type": "code",
   "execution_count": 206,
   "id": "66f519cf",
   "metadata": {},
   "outputs": [],
   "source": [
    "def make_request(index):\n",
    "    return requests.get('https://www.ceunovel.com/warlock-of-the-magus-world/chapter-'+str(index), auth=('user', 'pass'))\n",
    "\n",
    "def get_chapter(response):\n",
    "    chapter = \"\"\n",
    "    html_soup = BeautifulSoup(response.text, 'html.parser')\n",
    "    for paragraph in html_soup.find_all(\"p\"):\n",
    "        chapter+=str(paragraph.text)+\" \"\n",
    "    return chapter\n",
    "\n",
    "def fix_chapter(chapter, replaceChars):\n",
    "    for char in replaceChars:\n",
    "        chapter = chapter.replace(char, \"\")\n",
    "    return chapter\n",
    "\n",
    "def write_arq(text, name):\n",
    "    arq = open(\"name\"+\".txt\", \"a\")\n",
    "    arq.write(text)\n",
    "    arq.close()\n",
    "\n",
    "def copy(text):\n",
    "    pyperclip.copy(text)"
   ]
  },
  {
   "cell_type": "code",
   "execution_count": 207,
   "id": "3e059786",
   "metadata": {},
   "outputs": [
    {
     "ename": "PyperclipWindowsException",
     "evalue": "Error calling OpenClipboard ([WinError 5] Acesso negado.)",
     "output_type": "error",
     "traceback": [
      "\u001b[1;31m---------------------------------------------------------------------------\u001b[0m",
      "\u001b[1;31mPyperclipWindowsException\u001b[0m                 Traceback (most recent call last)",
      "\u001b[1;32m<ipython-input-207-190d9e68aa1a>\u001b[0m in \u001b[0;36m<module>\u001b[1;34m\u001b[0m\n\u001b[0;32m      1\u001b[0m \u001b[1;32mfor\u001b[0m \u001b[0mindex\u001b[0m \u001b[1;32min\u001b[0m \u001b[0mrange\u001b[0m\u001b[1;33m(\u001b[0m\u001b[0minitialChapter\u001b[0m\u001b[1;33m,\u001b[0m \u001b[0mfinalChapter\u001b[0m\u001b[1;33m)\u001b[0m\u001b[1;33m:\u001b[0m\u001b[1;33m\u001b[0m\u001b[1;33m\u001b[0m\u001b[0m\n\u001b[1;32m----> 2\u001b[1;33m     \u001b[0mcopy\u001b[0m\u001b[1;33m(\u001b[0m\u001b[0mfix_chapter\u001b[0m\u001b[1;33m(\u001b[0m\u001b[0mget_chapter\u001b[0m\u001b[1;33m(\u001b[0m\u001b[0mmake_request\u001b[0m\u001b[1;33m(\u001b[0m\u001b[0mindex\u001b[0m\u001b[1;33m)\u001b[0m\u001b[1;33m)\u001b[0m\u001b[1;33m,\u001b[0m \u001b[0mreplaceChars\u001b[0m\u001b[1;33m)\u001b[0m\u001b[1;33m)\u001b[0m\u001b[1;33m\u001b[0m\u001b[1;33m\u001b[0m\u001b[0m\n\u001b[0m\u001b[0;32m      3\u001b[0m     \u001b[0mos\u001b[0m\u001b[1;33m.\u001b[0m\u001b[0msystem\u001b[0m\u001b[1;33m(\u001b[0m\u001b[1;34m\"balcon -c -n felipe -w mp3\\wmw-\"\u001b[0m\u001b[1;33m+\u001b[0m\u001b[0mstr\u001b[0m\u001b[1;33m(\u001b[0m\u001b[0mindex\u001b[0m\u001b[1;33m)\u001b[0m\u001b[1;33m+\u001b[0m\u001b[1;34m\".mp3\"\u001b[0m\u001b[1;33m)\u001b[0m\u001b[1;33m\u001b[0m\u001b[1;33m\u001b[0m\u001b[0m\n",
      "\u001b[1;32m<ipython-input-206-56ac326afa2f>\u001b[0m in \u001b[0;36mcopy\u001b[1;34m(text)\u001b[0m\n\u001b[0;32m     20\u001b[0m \u001b[1;33m\u001b[0m\u001b[0m\n\u001b[0;32m     21\u001b[0m \u001b[1;32mdef\u001b[0m \u001b[0mcopy\u001b[0m\u001b[1;33m(\u001b[0m\u001b[0mtext\u001b[0m\u001b[1;33m)\u001b[0m\u001b[1;33m:\u001b[0m\u001b[1;33m\u001b[0m\u001b[1;33m\u001b[0m\u001b[0m\n\u001b[1;32m---> 22\u001b[1;33m     \u001b[0mpyperclip\u001b[0m\u001b[1;33m.\u001b[0m\u001b[0mcopy\u001b[0m\u001b[1;33m(\u001b[0m\u001b[0mtext\u001b[0m\u001b[1;33m)\u001b[0m\u001b[1;33m\u001b[0m\u001b[1;33m\u001b[0m\u001b[0m\n\u001b[0m",
      "\u001b[1;32mD:\\anaconda\\lib\\site-packages\\pyperclip\\__init__.py\u001b[0m in \u001b[0;36mcopy_windows\u001b[1;34m(text)\u001b[0m\n\u001b[0;32m    469\u001b[0m             \u001b[1;31m# this causes SetClipboardData to fail.\u001b[0m\u001b[1;33m\u001b[0m\u001b[1;33m\u001b[0m\u001b[1;33m\u001b[0m\u001b[0m\n\u001b[0;32m    470\u001b[0m             \u001b[1;31m# => We need a valid hwnd to copy something.\u001b[0m\u001b[1;33m\u001b[0m\u001b[1;33m\u001b[0m\u001b[1;33m\u001b[0m\u001b[0m\n\u001b[1;32m--> 471\u001b[1;33m             \u001b[1;32mwith\u001b[0m \u001b[0mclipboard\u001b[0m\u001b[1;33m(\u001b[0m\u001b[0mhwnd\u001b[0m\u001b[1;33m)\u001b[0m\u001b[1;33m:\u001b[0m\u001b[1;33m\u001b[0m\u001b[1;33m\u001b[0m\u001b[0m\n\u001b[0m\u001b[0;32m    472\u001b[0m                 \u001b[0msafeEmptyClipboard\u001b[0m\u001b[1;33m(\u001b[0m\u001b[1;33m)\u001b[0m\u001b[1;33m\u001b[0m\u001b[1;33m\u001b[0m\u001b[0m\n\u001b[0;32m    473\u001b[0m \u001b[1;33m\u001b[0m\u001b[0m\n",
      "\u001b[1;32mD:\\anaconda\\lib\\contextlib.py\u001b[0m in \u001b[0;36m__enter__\u001b[1;34m(self)\u001b[0m\n\u001b[0;32m    111\u001b[0m         \u001b[1;32mdel\u001b[0m \u001b[0mself\u001b[0m\u001b[1;33m.\u001b[0m\u001b[0margs\u001b[0m\u001b[1;33m,\u001b[0m \u001b[0mself\u001b[0m\u001b[1;33m.\u001b[0m\u001b[0mkwds\u001b[0m\u001b[1;33m,\u001b[0m \u001b[0mself\u001b[0m\u001b[1;33m.\u001b[0m\u001b[0mfunc\u001b[0m\u001b[1;33m\u001b[0m\u001b[1;33m\u001b[0m\u001b[0m\n\u001b[0;32m    112\u001b[0m         \u001b[1;32mtry\u001b[0m\u001b[1;33m:\u001b[0m\u001b[1;33m\u001b[0m\u001b[1;33m\u001b[0m\u001b[0m\n\u001b[1;32m--> 113\u001b[1;33m             \u001b[1;32mreturn\u001b[0m \u001b[0mnext\u001b[0m\u001b[1;33m(\u001b[0m\u001b[0mself\u001b[0m\u001b[1;33m.\u001b[0m\u001b[0mgen\u001b[0m\u001b[1;33m)\u001b[0m\u001b[1;33m\u001b[0m\u001b[1;33m\u001b[0m\u001b[0m\n\u001b[0m\u001b[0;32m    114\u001b[0m         \u001b[1;32mexcept\u001b[0m \u001b[0mStopIteration\u001b[0m\u001b[1;33m:\u001b[0m\u001b[1;33m\u001b[0m\u001b[1;33m\u001b[0m\u001b[0m\n\u001b[0;32m    115\u001b[0m             \u001b[1;32mraise\u001b[0m \u001b[0mRuntimeError\u001b[0m\u001b[1;33m(\u001b[0m\u001b[1;34m\"generator didn't yield\"\u001b[0m\u001b[1;33m)\u001b[0m \u001b[1;32mfrom\u001b[0m \u001b[1;32mNone\u001b[0m\u001b[1;33m\u001b[0m\u001b[1;33m\u001b[0m\u001b[0m\n",
      "\u001b[1;32mD:\\anaconda\\lib\\site-packages\\pyperclip\\__init__.py\u001b[0m in \u001b[0;36mclipboard\u001b[1;34m(hwnd)\u001b[0m\n\u001b[0;32m    450\u001b[0m             \u001b[0mtime\u001b[0m\u001b[1;33m.\u001b[0m\u001b[0msleep\u001b[0m\u001b[1;33m(\u001b[0m\u001b[1;36m0.01\u001b[0m\u001b[1;33m)\u001b[0m\u001b[1;33m\u001b[0m\u001b[1;33m\u001b[0m\u001b[0m\n\u001b[0;32m    451\u001b[0m         \u001b[1;32mif\u001b[0m \u001b[1;32mnot\u001b[0m \u001b[0msuccess\u001b[0m\u001b[1;33m:\u001b[0m\u001b[1;33m\u001b[0m\u001b[1;33m\u001b[0m\u001b[0m\n\u001b[1;32m--> 452\u001b[1;33m             \u001b[1;32mraise\u001b[0m \u001b[0mPyperclipWindowsException\u001b[0m\u001b[1;33m(\u001b[0m\u001b[1;34m\"Error calling OpenClipboard\"\u001b[0m\u001b[1;33m)\u001b[0m\u001b[1;33m\u001b[0m\u001b[1;33m\u001b[0m\u001b[0m\n\u001b[0m\u001b[0;32m    453\u001b[0m \u001b[1;33m\u001b[0m\u001b[0m\n\u001b[0;32m    454\u001b[0m         \u001b[1;32mtry\u001b[0m\u001b[1;33m:\u001b[0m\u001b[1;33m\u001b[0m\u001b[1;33m\u001b[0m\u001b[0m\n",
      "\u001b[1;31mPyperclipWindowsException\u001b[0m: Error calling OpenClipboard ([WinError 5] Acesso negado.)"
     ]
    }
   ],
   "source": [
    "for index in range(initialChapter, finalChapter):\n",
    "    copy(fix_chapter(get_chapter(make_request(index)), replaceChars))\n",
    "    os.system(\"balcon -c -n felipe -w mp3\\wmw-\"+str(index)+\".mp3\")"
   ]
  },
  {
   "cell_type": "code",
   "execution_count": 160,
   "id": "df208cb9",
   "metadata": {},
   "outputs": [],
   "source": []
  },
  {
   "cell_type": "code",
   "execution_count": null,
   "id": "edf4ddd1",
   "metadata": {},
   "outputs": [],
   "source": []
  },
  {
   "cell_type": "code",
   "execution_count": null,
   "id": "39116e1f",
   "metadata": {},
   "outputs": [],
   "source": []
  }
 ],
 "metadata": {
  "kernelspec": {
   "display_name": "Python 3",
   "language": "python",
   "name": "python3"
  },
  "language_info": {
   "codemirror_mode": {
    "name": "ipython",
    "version": 3
   },
   "file_extension": ".py",
   "mimetype": "text/x-python",
   "name": "python",
   "nbconvert_exporter": "python",
   "pygments_lexer": "ipython3",
   "version": "3.8.8"
  }
 },
 "nbformat": 4,
 "nbformat_minor": 5
}

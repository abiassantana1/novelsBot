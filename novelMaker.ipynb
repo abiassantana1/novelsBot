{
 "cells": [
  {
   "cell_type": "code",
   "execution_count": 195,
   "id": "b08baa2d",
   "metadata": {},
   "outputs": [],
   "source": [
    "from bs4 import BeautifulSoup\n",
    "import requests\n",
    "import pyperclip\n",
    "import os"
   ]
  },
  {
   "cell_type": "code",
   "execution_count": 208,
   "id": "fb3a340b",
   "metadata": {},
   "outputs": [],
   "source": [
    "initialChapter = 0\n",
    "finalChapter = 0"
   ]
  },
  {
   "cell_type": "code",
   "execution_count": 209,
   "id": "883e7108",
   "metadata": {},
   "outputs": [],
   "source": [
    "replaceChars = [\"\\n\", \"\\'\\'\", \"\\'\", \"Advertisement\", \"Please enable JavaScript!Bitte aktiviere JavaScript!Sil vous plaît activer JavaScript!Por favor,activa el JavaScript!antiblock.org\"]"
   ]
  },
  {
   "cell_type": "code",
   "execution_count": 210,
   "id": "6bf83ecc",
   "metadata": {},
   "outputs": [],
   "source": [
    "def make_request(index):\n",
    "    return requests.get('https://www.ceunovel.com/warlock-of-the-magus-world/chapter-'+str(index), auth=('user', 'pass'))\n",
    "\n",
    "def get_chapter(response):\n",
    "    chapter = \"\"\n",
    "    html_soup = BeautifulSoup(response.text, 'html.parser')\n",
    "    for paragraph in html_soup.find_all(\"p\"):\n",
    "        chapter+=str(paragraph.text)+\" \"\n",
    "    return chapter\n",
    "\n",
    "def fix_chapter(chapter, replaceChars):\n",
    "    for char in replaceChars:\n",
    "        chapter = chapter.replace(char, \"\")\n",
    "    return chapter\n",
    "\n",
    "def write_arq(text, name):\n",
    "    arq = open(\"name\"+\".txt\", \"a\")\n",
    "    arq.write(text)\n",
    "    arq.close()\n",
    "\n",
    "def copy(text):\n",
    "    pyperclip.copy(text)"
   ]
  },
  {
   "cell_type": "code",
   "execution_count": 211,
   "id": "e9ac2f8f",
   "metadata": {},
   "outputs": [],
   "source": [
    "for index in range(initialChapter, finalChapter):\n",
    "    copy(fix_chapter(get_chapter(make_request(index)), replaceChars))\n",
    "    os.system(\"balcon -c -n felipe -w mp3\\wmw-\"+str(index)+\".mp3\")"
   ]
  },
  {
   "cell_type": "code",
   "execution_count": 160,
   "id": "1e5eb1dd",
   "metadata": {},
   "outputs": [],
   "source": []
  },
  {
   "cell_type": "code",
   "execution_count": null,
   "id": "2e28a67f",
   "metadata": {},
   "outputs": [],
   "source": []
  },
  {
   "cell_type": "code",
   "execution_count": null,
   "id": "f75e2b06",
   "metadata": {},
   "outputs": [],
   "source": []
  }
 ],
 "metadata": {
  "kernelspec": {
   "display_name": "Python 3",
   "language": "python",
   "name": "python3"
  },
  "language_info": {
   "codemirror_mode": {
    "name": "ipython",
    "version": 3
   },
   "file_extension": ".py",
   "mimetype": "text/x-python",
   "name": "python",
   "nbconvert_exporter": "python",
   "pygments_lexer": "ipython3",
   "version": "3.8.8"
  }
 },
 "nbformat": 4,
 "nbformat_minor": 5
}
